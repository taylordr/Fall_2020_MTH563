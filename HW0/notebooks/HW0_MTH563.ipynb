{
  "nbformat": 4,
  "nbformat_minor": 0,
  "metadata": {
    "kernelspec": {
      "display_name": "Python 3",
      "language": "python",
      "name": "python3"
    },
    "language_info": {
      "codemirror_mode": {
        "name": "ipython",
        "version": 3
      },
      "file_extension": ".py",
      "mimetype": "text/x-python",
      "name": "python",
      "nbconvert_exporter": "python",
      "pygments_lexer": "ipython3",
      "version": "3.7.6"
    },
    "colab": {
      "name": "HW0_MTH563.ipynb",
      "provenance": [],
      "collapsed_sections": [],
      "include_colab_link": true
    }
  },
  "cells": [
    {
      "cell_type": "markdown",
      "metadata": {
        "id": "view-in-github",
        "colab_type": "text"
      },
      "source": [
        "<a href=\"https://colab.research.google.com/github/taylordr/Fall_2020_MTH563/blob/master/HW0/notebooks/HW0_MTH563.ipynb\" target=\"_parent\"><img src=\"https://colab.research.google.com/assets/colab-badge.svg\" alt=\"Open In Colab\"/></a>"
      ]
    },
    {
      "cell_type": "markdown",
      "metadata": {
        "id": "ULcOdyVwpuV0",
        "colab_type": "text"
      },
      "source": [
        "# MTH 563: Data Oriented Computing 2\n",
        "\n",
        "\n",
        "## Homework 0: Building Documented Codebases on Github\n",
        "\n",
        "[![Open In Colab](https://colab.research.google.com/assets/colab-badge.svg)](https://colab.research.google.com/github/ProfessorDaneTaylor/Fall_2020_MTH563/blob/master/HW0/notebooks/HW0_MTH563.ipynb)"
      ]
    },
    {
      "cell_type": "code",
      "metadata": {
        "id": "1xni6TfnpuV0",
        "colab_type": "code",
        "colab": {
          "base_uri": "https://localhost:8080/",
          "height": 34
        },
        "outputId": "5d95ded7-738d-4b70-97bd-4868cbfbc3f6"
      },
      "source": [
        "%pylab inline\n",
        "import sys"
      ],
      "execution_count": 1,
      "outputs": [
        {
          "output_type": "stream",
          "text": [
            "Populating the interactive namespace from numpy and matplotlib\n"
          ],
          "name": "stdout"
        }
      ]
    },
    {
      "cell_type": "markdown",
      "metadata": {
        "id": "Qj5GS8SEpuV4",
        "colab_type": "text"
      },
      "source": [
        "### Running code on personal computer\n",
        "\n",
        "If on home computer, run the next cell. Otherwise comment it out."
      ]
    },
    {
      "cell_type": "code",
      "metadata": {
        "id": "ttmaFkt0puV5",
        "colab_type": "code",
        "colab": {}
      },
      "source": [
        "# code_folder = '../code/'\n",
        "# sys.path.append(code_folder)\n",
        "# from danes_module import *"
      ],
      "execution_count": null,
      "outputs": []
    },
    {
      "cell_type": "markdown",
      "metadata": {
        "id": "fHxZJLtBpuV7",
        "colab_type": "text"
      },
      "source": [
        "## Running code on Google Colab\n",
        "\n",
        "You can load the code from Github or your Google Drive\n",
        "\n",
        "### Load code into Colab using Github"
      ]
    },
    {
      "cell_type": "code",
      "metadata": {
        "id": "NHmaLih9puV7",
        "colab_type": "code",
        "colab": {}
      },
      "source": [
        "#!git clone https://github.com/ProfessorDaneTaylor/Fall_2020_MTH563.git"
      ],
      "execution_count": null,
      "outputs": []
    },
    {
      "cell_type": "code",
      "metadata": {
        "id": "7lAWUIK5puV9",
        "colab_type": "code",
        "colab": {}
      },
      "source": [
        "#cd Fall_2020_MTH563/HW0/notebooks"
      ],
      "execution_count": null,
      "outputs": []
    },
    {
      "cell_type": "code",
      "metadata": {
        "id": "6JsxLjAfpuV_",
        "colab_type": "code",
        "colab": {}
      },
      "source": [
        "### Using Github to load code into Colab"
      ],
      "execution_count": null,
      "outputs": []
    },
    {
      "cell_type": "markdown",
      "metadata": {
        "id": "S1KCA0J2puWB",
        "colab_type": "text"
      },
      "source": [
        "### Or load code into Colab using Google Drive"
      ]
    },
    {
      "cell_type": "code",
      "metadata": {
        "id": "hPPgcuaBpuWC",
        "colab_type": "code",
        "colab": {}
      },
      "source": [
        "from google.colab import drive"
      ],
      "execution_count": 2,
      "outputs": []
    },
    {
      "cell_type": "code",
      "metadata": {
        "id": "deg1YpfEpuWE",
        "colab_type": "code",
        "colab": {
          "base_uri": "https://localhost:8080/",
          "height": 122
        },
        "outputId": "0e4cc119-8aac-4edd-a7fc-444a66550eb1"
      },
      "source": [
        "drive.mount('/content/gdrive')"
      ],
      "execution_count": 3,
      "outputs": [
        {
          "output_type": "stream",
          "text": [
            "Go to this URL in a browser: https://accounts.google.com/o/oauth2/auth?client_id=947318989803-6bn6qk8qdgf4n4g3pfee6491hc0brc4i.apps.googleusercontent.com&redirect_uri=urn%3aietf%3awg%3aoauth%3a2.0%3aoob&scope=email%20https%3a%2f%2fwww.googleapis.com%2fauth%2fdocs.test%20https%3a%2f%2fwww.googleapis.com%2fauth%2fdrive%20https%3a%2f%2fwww.googleapis.com%2fauth%2fdrive.photos.readonly%20https%3a%2f%2fwww.googleapis.com%2fauth%2fpeopleapi.readonly&response_type=code\n",
            "\n",
            "Enter your authorization code:\n",
            "··········\n",
            "Mounted at /content/gdrive\n"
          ],
          "name": "stdout"
        }
      ]
    },
    {
      "cell_type": "code",
      "metadata": {
        "id": "EgmIkrhgpuWG",
        "colab_type": "code",
        "colab": {
          "base_uri": "https://localhost:8080/",
          "height": 34
        },
        "outputId": "85908ccd-c6a2-4099-9542-77a14309b4e3"
      },
      "source": [
        "cd 'gdrive/My Drive/HW0/code'"
      ],
      "execution_count": 8,
      "outputs": [
        {
          "output_type": "stream",
          "text": [
            "/content/gdrive/My Drive/HW0/code\n"
          ],
          "name": "stdout"
        }
      ]
    },
    {
      "cell_type": "markdown",
      "metadata": {
        "id": "xicx7UZ6puWI",
        "colab_type": "text"
      },
      "source": [
        "### Test Danes functions"
      ]
    },
    {
      "cell_type": "code",
      "metadata": {
        "id": "pl-khdaApuWI",
        "colab_type": "code",
        "colab": {}
      },
      "source": [
        "from danes_module import *"
      ],
      "execution_count": 10,
      "outputs": []
    },
    {
      "cell_type": "code",
      "metadata": {
        "id": "YAy-PrbkpuWK",
        "colab_type": "code",
        "colab": {
          "base_uri": "https://localhost:8080/",
          "height": 34
        },
        "outputId": "6a63a73b-7d83-4d63-8156-dec451d8c5fd"
      },
      "source": [
        "square_a_number(9)"
      ],
      "execution_count": 12,
      "outputs": [
        {
          "output_type": "execute_result",
          "data": {
            "text/plain": [
              "81"
            ]
          },
          "metadata": {
            "tags": []
          },
          "execution_count": 12
        }
      ]
    },
    {
      "cell_type": "code",
      "metadata": {
        "id": "8P0GJIeEpuWM",
        "colab_type": "code",
        "colab": {
          "base_uri": "https://localhost:8080/",
          "height": 298
        },
        "outputId": "f1ca6d85-7d08-403b-a2a3-171591f42586"
      },
      "source": [
        "x = np.linspace(-1,1,100)\n",
        "f1,ax = plt.subplots(1,2,figsize=(12,4))\n",
        "ax[0].plot(x,square_a_number(x))\n",
        "ax[0].set_title('first function')\n",
        "ax[1].plot(x,times_by_3(x))\n",
        "ax[1].set_title('second function')"
      ],
      "execution_count": 13,
      "outputs": [
        {
          "output_type": "execute_result",
          "data": {
            "text/plain": [
              "Text(0.5, 1.0, 'second function')"
            ]
          },
          "metadata": {
            "tags": []
          },
          "execution_count": 13
        },
        {
          "output_type": "display_data",
          "data": {
            "image/png": "[encoded data removed]",
            "text/plain": [
              "<Figure size 864x288 with 2 Axes>"
            ]
          },
          "metadata": {
            "tags": [],
            "needs_background": "light"
          }
        }
      ]
    },
    {
      "cell_type": "code",
      "metadata": {
        "id": "Wy8YOhIKpuWP",
        "colab_type": "code",
        "colab": {}
      },
      "source": [
        ""
      ],
      "execution_count": null,
      "outputs": []
    },
    {
      "cell_type": "code",
      "metadata": {
        "id": "ECCzJWMSpuWQ",
        "colab_type": "code",
        "colab": {}
      },
      "source": [
        "from tong_module import *"
      ],
      "execution_count": 15,
      "outputs": []
    },
    {
      "cell_type": "code",
      "metadata": {
        "id": "EwUCSqvApuWS",
        "colab_type": "code",
        "colab": {
          "base_uri": "https://localhost:8080/",
          "height": 34
        },
        "outputId": "0dbe9e7d-310f-42a5-ae4d-fb414fa2ff1c"
      },
      "source": [
        "ten_times_greater(1)"
      ],
      "execution_count": 17,
      "outputs": [
        {
          "output_type": "execute_result",
          "data": {
            "text/plain": [
              "10"
            ]
          },
          "metadata": {
            "tags": []
          },
          "execution_count": 17
        }
      ]
    },
    {
      "cell_type": "code",
      "metadata": {
        "id": "CNDbH75SqkQY",
        "colab_type": "code",
        "colab": {}
      },
      "source": [
        ""
      ],
      "execution_count": null,
      "outputs": []
    }
  ]
}